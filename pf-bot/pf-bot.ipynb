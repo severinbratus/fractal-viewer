{
 "cells": [
  {
   "cell_type": "code",
   "execution_count": 4,
   "id": "4b89c0ab-a065-4dd6-8aab-672c2aa38b5f",
   "metadata": {},
   "outputs": [],
   "source": [
    "from selenium.webdriver.common.by import By\n",
    "from selenium import webdriver\n",
    "from selenium.webdriver.chrome.options import Options\n",
    "\n",
    "from time import sleep\n",
    "\n",
    "import subprocess as sp\n",
    "import re"
   ]
  },
  {
   "cell_type": "code",
   "execution_count": 6,
   "id": "9ecb92be-d8d8-4ae8-8783-8c266192cca8",
   "metadata": {
    "tags": []
   },
   "outputs": [],
   "source": [
    "with open('creds.txt') as fin:\n",
    "    uname, pwd = fin.read().strip().split(',')"
   ]
  },
  {
   "cell_type": "code",
   "execution_count": 8,
   "id": "7f4d6738-d99d-425d-be39-658189271d20",
   "metadata": {
    "tags": []
   },
   "outputs": [],
   "source": [
    "def get_n_projects(headless=False):\n",
    "    # create headless chrome options\n",
    "    chrome_options = Options()\n",
    "    if headless: chrome_options.add_argument('--headless')\n",
    "    chrome_options.add_argument('--disable-gpu')\n",
    "\n",
    "    # create chrome driver instance\n",
    "    driver = webdriver.Chrome(options=chrome_options)\n",
    "\n",
    "    # navigate to the website\n",
    "    driver.get(\"https://projectforum.tudelft.nl/\")\n",
    "\n",
    "    # click the login button\n",
    "    login_button = driver.find_element(By.LINK_TEXT, \"Log In (TU Delft)\")\n",
    "    login_button.click()\n",
    "\n",
    "    sleep(1)\n",
    "    uname_input = driver.find_element(By.ID, \"username\")\n",
    "    pwd_input = driver.find_element(By.ID, \"password\")\n",
    "    uname_input.send_keys(uname)\n",
    "    pwd_input.send_keys(pwd)\n",
    "\n",
    "    sleep(1)\n",
    "    driver.find_element(By.ID, \"submit_button\").click()\n",
    "    sleep(1)\n",
    "    driver.find_element(By.PARTIAL_LINK_TEXT, \"Software Project\").click()\n",
    "    sleep(1)\n",
    "    driver.find_element(By.PARTIAL_LINK_TEXT, \"Projects\").click()\n",
    "\n",
    "    sleep(1)\n",
    "    source = re.sub(r\"\\s+\", \" \", driver.page_source).strip()\n",
    "\n",
    "    pattern = r\"The list below shows the <b>(.*)</b> projects that are available for this course\"\n",
    "    match = re.search(pattern, source)\n",
    "    n_projects = int(match.group(1))\n",
    "\n",
    "    # close the driver\n",
    "    driver.quit()\n",
    "    \n",
    "    return n_projects\n"
   ]
  },
  {
   "cell_type": "code",
   "execution_count": null,
   "id": "a482ebf3-4799-4d23-9a44-a10ca0a0979d",
   "metadata": {},
   "outputs": [],
   "source": [
    "while True:\n",
    "    with open(\"nprojs.txt\") as fin:\n",
    "        n_pers = int(fin.read())\n",
    "\n",
    "    try:\n",
    "        n_read = get_n_projects(True)\n",
    "    except e:\n",
    "        continue\n",
    "    \n",
    "    if n_read != n_pers:\n",
    "        assert n_pers < n_read, f\"{n_pers} > {n_read}\"\n",
    "        sp.run([\"notify-send\", \"--urgency=CRITICAL\", f\"{n_read - n_pers} project(s) added\"])\n",
    "    else:\n",
    "        sp.run([\"notify-send\", f\"No project(s) added\"])\n",
    "\n",
    "    with open(\"nprojs.txt\", \"w\") as fout:\n",
    "        print(n_read, file=fout)\n",
    "\n",
    "    sleep(5 * 60)\n",
    "\n",
    "    \n",
    "# the scheme is as follows:\n",
    "# on each iteration of the algo, check if the persisted N matches the N read.\n",
    "# If not (assert N_r - N_p > 0), notify\n",
    "# If equal, do nothing\n",
    "    \n",
    "# todo: read-eval and write-print\n",
    "# + ptext format\n",
    "# + minimal parsing by me\n",
    "\n",
    "# get pers projects\n",
    "# get current projects\n",
    "# compare:\n",
    "#  if addition: notify"
   ]
  },
  {
   "cell_type": "code",
   "execution_count": null,
   "id": "5cef06c2-f6ac-45b1-9573-5c68690906a0",
   "metadata": {},
   "outputs": [],
   "source": [
    "# BELOW CELLS NON-ESSENTIAL / TINKERING"
   ]
  },
  {
   "cell_type": "code",
   "execution_count": null,
   "id": "eed3c7f2-045a-4bd4-a924-6161a54dd5ff",
   "metadata": {},
   "outputs": [],
   "source": [
    "link_fmt = \"https://projectforum.tudelft.nl/course_editions/59/projects?page=%s\"\n",
    "all_projects = dict()\n",
    "for page in range(5):\n",
    "    driver.get(link_fmt.format(page))\n",
    "    page_projects_we = driver.find_elements(By.CLASS_NAME, \"project\")\n",
    "    page_projects = [project_extract(we) for we in projects_we]\n",
    "    for project in page_projects:\n",
    "        all_projects[project['name']] = "
   ]
  },
  {
   "cell_type": "code",
   "execution_count": 33,
   "id": "618d5f11-f866-4a40-ac0b-c5ee585f25a0",
   "metadata": {},
   "outputs": [],
   "source": [
    "projects_we = driver.find_elements(By.CLASS_NAME, \"project\")\n",
    "projects = [project_extract(we) for we in projects_we]"
   ]
  },
  {
   "cell_type": "code",
   "execution_count": 32,
   "id": "f618710a-05e1-4b42-b9ad-7823bd92f109",
   "metadata": {
    "tags": []
   },
   "outputs": [
    {
     "data": {
      "text/plain": [
       "{'name': 'Mathe im Advent – Making Math fun and relevant data science embedded systems',\n",
       " 'offerer': 'Mathe im Leben gGmbH'}"
      ]
     },
     "execution_count": 32,
     "metadata": {},
     "output_type": "execute_result"
    }
   ],
   "source": [
    "def project_extract(project_we):\n",
    "    return {\n",
    "        \"name\": project_we.find_element(By.CLASS_NAME, \"project-name\").text,\n",
    "        \"offerer\": re.search(\"Offered by (.*)\\n\", project_we.text).group(1)\n",
    "    }"
   ]
  }
 ],
 "metadata": {
  "kernelspec": {
   "display_name": "Python 3 (ipykernel)",
   "language": "python",
   "name": "python3"
  },
  "language_info": {
   "codemirror_mode": {
    "name": "ipython",
    "version": 3
   },
   "file_extension": ".py",
   "mimetype": "text/x-python",
   "name": "python",
   "nbconvert_exporter": "python",
   "pygments_lexer": "ipython3",
   "version": "3.11.2"
  }
 },
 "nbformat": 4,
 "nbformat_minor": 5
}
