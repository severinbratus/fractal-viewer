{
 "cells": [
  {
   "cell_type": "code",
   "execution_count": 1,
   "id": "a2011be2",
   "metadata": {},
   "outputs": [],
   "source": [
    "from math import *\n",
    "import numpy as np"
   ]
  },
  {
   "cell_type": "code",
   "execution_count": 2,
   "id": "9d342b84",
   "metadata": {},
   "outputs": [],
   "source": [
    "def s(n):\n",
    "    return n * (n+1) // 2"
   ]
  },
  {
   "cell_type": "code",
   "execution_count": 3,
   "id": "162c87fd",
   "metadata": {},
   "outputs": [],
   "source": [
    "def makeit(code, n):\n",
    "    m = ceil(n / 2)\n",
    "    assert(len(code) == s(m))\n",
    "    a = np.zeros((n, n, 3))\n",
    "\n",
    "    k = 0\n",
    "    for i in range(m):\n",
    "        # i is the index of the row.\n",
    "        # i+1 is the number of elements in a row\n",
    "        for j in range(i+1):\n",
    "            a[i][j] = code[k]\n",
    "            k += 1\n",
    "\n",
    "    for i in range(m):\n",
    "        # i is the index of the row\n",
    "        # iterate from i+1  (incl) to m (excl)\n",
    "        for j in range(i+1, m):\n",
    "            a[i][j] = a[j][i]\n",
    "\n",
    "\n",
    "    for i in range(m):\n",
    "        for j in range(m):\n",
    "            a[i][m - 1 + j] = a[i][m - 1 - j]\n",
    "\n",
    "    for i in range(m):\n",
    "        for j in range(n):\n",
    "            a[m - 1 + i][j] = a[m - 1 - i][j]\n",
    "    \n",
    "    return a"
   ]
  },
  {
   "cell_type": "code",
   "execution_count": 48,
   "id": "68bdc98e",
   "metadata": {},
   "outputs": [
    {
     "data": {
      "text/plain": [
       "11"
      ]
     },
     "execution_count": 48,
     "metadata": {},
     "output_type": "execute_result"
    }
   ],
   "source": [
    "len(a)"
   ]
  },
  {
   "cell_type": "code",
   "execution_count": 36,
   "id": "e88085f8",
   "metadata": {},
   "outputs": [
    {
     "name": "stdout",
     "output_type": "stream",
     "text": [
      "6\n"
     ]
    },
    {
     "data": {
      "text/plain": [
       "array([[ 1,  2,  4,  7, 11, 16, 11,  7,  4,  2,  1],\n",
       "       [ 2,  3,  5,  8, 12, 17, 12,  8,  5,  3,  2],\n",
       "       [ 4,  5,  6,  9, 13, 18, 13,  9,  6,  5,  4],\n",
       "       [ 7,  8,  9, 10, 14, 19, 14, 10,  9,  8,  7],\n",
       "       [11, 12, 13, 14, 15, 20, 15, 14, 13, 12, 11],\n",
       "       [16, 17, 18, 19, 20, 21, 20, 19, 18, 17, 16],\n",
       "       [11, 12, 13, 14, 15, 20, 15, 14, 13, 12, 11],\n",
       "       [ 7,  8,  9, 10, 14, 19, 14, 10,  9,  8,  7],\n",
       "       [ 4,  5,  6,  9, 13, 18, 13,  9,  6,  5,  4],\n",
       "       [ 2,  3,  5,  8, 12, 17, 12,  8,  5,  3,  2],\n",
       "       [ 1,  2,  4,  7, 11, 16, 11,  7,  4,  2,  1]])"
      ]
     },
     "execution_count": 36,
     "metadata": {},
     "output_type": "execute_result"
    }
   ],
   "source": [
    "makeit(list(range(1, 22)), 11)"
   ]
  },
  {
   "cell_type": "code",
   "execution_count": 5,
   "id": "6c2d7373",
   "metadata": {},
   "outputs": [],
   "source": [
    "import cv2"
   ]
  },
  {
   "cell_type": "code",
   "execution_count": 4,
   "id": "da795cbc",
   "metadata": {},
   "outputs": [],
   "source": [
    "from random import *"
   ]
  },
  {
   "cell_type": "code",
   "execution_count": 27,
   "id": "0b5f379a",
   "metadata": {},
   "outputs": [],
   "source": [
    "n = 15\n",
    "m = ceil(n / 2)"
   ]
  },
  {
   "cell_type": "code",
   "execution_count": 38,
   "id": "d0afb8a5",
   "metadata": {},
   "outputs": [
    {
     "data": {
      "image/png": "[encoded data removed]",
      "text/plain": [
       "<IPython.core.display.Image object>"
      ]
     },
     "execution_count": 38,
     "metadata": {},
     "output_type": "execute_result"
    }
   ],
   "source": [
    "code = choices([np.array([0,0,0]), np.array([255, 255, 255])], k=s(m))\n",
    "img = makeit(code, n)\n",
    "cv2.imwrite('h.png', img)\n",
    "! convert h.png -filter point -resize 300x300 -background black -gravity center -extent 300x300 hh.png\n",
    "from IPython.display import Image\n",
    "Image(filename='hh.png')"
   ]
  },
  {
   "cell_type": "code",
   "execution_count": 121,
   "id": "6273f264",
   "metadata": {},
   "outputs": [
    {
     "name": "stdout",
     "output_type": "stream",
     "text": [
      "hello\r\n"
     ]
    }
   ],
   "source": [
    "x = \"hello\"\n",
    "! echo $x"
   ]
  }
 ],
 "metadata": {
  "kernelspec": {
   "display_name": "Python 3 (ipykernel)",
   "language": "python",
   "name": "python3"
  },
  "language_info": {
   "codemirror_mode": {
    "name": "ipython",
    "version": 3
   },
   "file_extension": ".py",
   "mimetype": "text/x-python",
   "name": "python",
   "nbconvert_exporter": "python",
   "pygments_lexer": "ipython3",
   "version": "3.10.6"
  }
 },
 "nbformat": 4,
 "nbformat_minor": 5
}
